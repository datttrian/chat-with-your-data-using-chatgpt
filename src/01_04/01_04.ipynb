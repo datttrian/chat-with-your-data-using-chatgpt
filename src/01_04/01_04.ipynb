{
 "cells": [
  {
   "cell_type": "markdown",
   "id": "62b685c1-fe44-4f01-b9e3-5808cf10752f",
   "metadata": {},
   "source": [
    "# Chat With Your Data\n",
    "\n",
    "## Implement Document Splitting"
   ]
  },
  {
   "cell_type": "markdown",
   "id": "6bed94b7-d5da-4c5b-a812-25ecbb1601a6",
   "metadata": {},
   "source": [
    "# Install libraries"
   ]
  },
  {
   "cell_type": "code",
   "execution_count": null,
   "id": "603889ff-e355-4c9e-929a-45e8150aa0f7",
   "metadata": {},
   "outputs": [],
   "source": [
    "pip install openai"
   ]
  },
  {
   "cell_type": "code",
   "execution_count": null,
   "id": "759ae117-0aa2-4c09-b5bd-7ce1e106ada2",
   "metadata": {},
   "outputs": [],
   "source": [
    "pip install python-dotenv"
   ]
  },
  {
   "cell_type": "code",
   "execution_count": null,
   "id": "dd511c5a",
   "metadata": {},
   "outputs": [],
   "source": [
    "pip install langchain"
   ]
  },
  {
   "cell_type": "code",
   "execution_count": null,
   "id": "ca531938",
   "metadata": {},
   "outputs": [],
   "source": [
    "pip install langchain-openai"
   ]
  },
  {
   "cell_type": "code",
   "execution_count": null,
   "id": "4a1839e2",
   "metadata": {},
   "outputs": [],
   "source": [
    "pip install pypdf"
   ]
  },
  {
   "cell_type": "code",
   "execution_count": null,
   "id": "69c527ad",
   "metadata": {},
   "outputs": [],
   "source": [
    "pip install faiss-cpu"
   ]
  },
  {
   "cell_type": "code",
   "execution_count": null,
   "id": "5f9fcee4",
   "metadata": {},
   "outputs": [],
   "source": [
    "pip install langchainhub"
   ]
  },
  {
   "cell_type": "markdown",
   "id": "a2191b2b-67cd-4294-8c08-8b05f858b9fc",
   "metadata": {},
   "source": [
    "## Load & Split PDF documents into chunks"
   ]
  },
  {
   "cell_type": "code",
   "execution_count": 20,
   "id": "519d6515",
   "metadata": {},
   "outputs": [],
   "source": [
    "from langchain.document_loaders import PyPDFLoader\n",
    "\n",
    "# Load PDF\n",
    "loaders = [\n",
    "    PyPDFLoader(\"../Data/botanical.pdf\"),\n",
    "    PyPDFLoader(\"../Data/astronomical.pdf\"),\n",
    "    PyPDFLoader(\"../Data/biological.pdf\"),\n",
    "    PyPDFLoader(\"../Data/cosmological.pdf\"),\n",
    "    PyPDFLoader(\"../Data/culinary.pdf\"),\n",
    "    PyPDFLoader(\"../Data/pharmaceutical.pdf\")\n",
    "]\n",
    "\n",
    "pages = []\n",
    "\n",
    "for loader in loaders:\n",
    "    pages.extend(loader.load())"
   ]
  },
  {
   "cell_type": "code",
   "execution_count": 21,
   "id": "fdd67ee4",
   "metadata": {},
   "outputs": [],
   "source": [
    "from langchain.text_splitter import CharacterTextSplitter\n",
    "text_splitter = CharacterTextSplitter(\n",
    "    separator=\"\\n\",\n",
    "    chunk_size=1000,\n",
    "    chunk_overlap=150,\n",
    "    length_function=len\n",
    ")"
   ]
  },
  {
   "cell_type": "code",
   "execution_count": 22,
   "id": "a18866b9",
   "metadata": {},
   "outputs": [],
   "source": [
    "docs = text_splitter.split_documents(pages)"
   ]
  },
  {
   "cell_type": "code",
   "execution_count": 23,
   "id": "af6206ad",
   "metadata": {},
   "outputs": [
    {
     "data": {
      "text/plain": [
       "42"
      ]
     },
     "execution_count": 23,
     "metadata": {},
     "output_type": "execute_result"
    }
   ],
   "source": [
    "len(docs)"
   ]
  },
  {
   "cell_type": "code",
   "execution_count": 32,
   "id": "a1681f68",
   "metadata": {},
   "outputs": [
    {
     "data": {
      "text/plain": [
       "Document(page_content=\"A dark, shadowy plant that thrives in the absence of light, its leaves absorbing darkness rather than sunlight.  • Folia umbrae: Folia nigrescunt in absentia lucis, umbram consumunt. • Flores nocturni: Flores aperiuntur solum sub umbris, stellis testibus. • Usus: Herbae umbrae visus nocturnus augentur, secretis noctis revelatis.  Noctis Umbraherba Noctis Umbraherba stands as a testament to nature's paradox, a plant that flourishes in the absence of light. Its leaves, darker than the deepest night, absorb shadows, thriving in places untouched by the sun's rays. This enigmatic flora is said to be born from the soil's whispered secrets and the moon's silent envy, a child of darkness in the purest form. It serves as a beacon for those who seek knowledge hidden in the night's embrace.  The nocturnal blossoms of Noctis Umbraherba are a rare sight, blooming only under the cover of darkness, their presence marked by an ephemeral, velvety scent that disappears at dawn. The flowers, delicate and somber, are thought to be woven from the fabric of night itself. Ancient texts speak of rituals held in the plant's honor, performed in the secrecy of night, where its petals were offered in exchange for visions of the future or glimpses of truths hidden in shadows.  The shadowy essence of Noctis Umbraherba is highly sought after by alchemists and sorcerers alike. Its extracts are believed to sharpen the senses, allowing one to see beyond the veil of reality, into realms untouched by light. Potions brewed from its dark leaves are said to grant the drinker the ability to\", metadata={'source': '../Data/botanical.pdf', 'page': 1})"
      ]
     },
     "execution_count": 32,
     "metadata": {},
     "output_type": "execute_result"
    }
   ],
   "source": [
    "docs[3]"
   ]
  },
  {
   "cell_type": "code",
   "execution_count": 30,
   "id": "72e56bbc-371c-4cae-8d53-25a741c275b2",
   "metadata": {},
   "outputs": [
    {
     "data": {
      "text/plain": [
       "Document(page_content='4 microcosm of the universe, capable of profound transformation. The text likely explores themes of purification, renewal, and the harmonization of bodily humors, providing a window into the spiritual beliefs and practices that accompanied ancient medicine. This holistic approach highlights the interconnectedness of body, mind, and cosmos in the pursuit of health and longevity.', metadata={'source': '../Data/pharmaceutical.pdf', 'page': 3})"
      ]
     },
     "execution_count": 30,
     "metadata": {},
     "output_type": "execute_result"
    }
   ],
   "source": [
    "docs[41]"
   ]
  },
  {
   "cell_type": "code",
   "execution_count": 31,
   "id": "c90f1a43-c887-4ccf-8dae-7980d51f320e",
   "metadata": {},
   "outputs": [
    {
     "data": {
      "text/plain": [
       "Document(page_content=\"4 Complex vascular systems illustrated as flowing rivers of life, connecting various parts of fantastical plants and creatures, with a focus on their life-sustaining processes. Vasorum systemata quasi flumina vitae, partes diversas creaturarum fantasticarum connectens. manuscript's deeper explorations into what maintains life in both real and imagined forms. Each vascular system is uniquely adapted to the needs of the creature or plant it supports, illustrating a variety of survival strategies that could parallel or inspire real-world biological studies. The precision of these illustrations suggests that they were meant to convey serious scientific principles, perhaps understood differently in their original context. Mystical and Scientific Blending The mystical interpretation of these vascular systems, coupled with their scientific depiction, creates a fascinating blend of knowledge and imagination. This dual perspective may have served educational or speculative purposes, encouraging viewers to consider the forces that animate the natural world. Such illustrations challenge modern viewers to think about ancient perspectives on biology and the universe's underlying mechanisms, bridging the gap between science and mythology.\", metadata={'source': '../Data/biological.pdf', 'page': 3})"
      ]
     },
     "execution_count": 31,
     "metadata": {},
     "output_type": "execute_result"
    }
   ],
   "source": [
    "docs[20]"
   ]
  },
  {
   "cell_type": "code",
   "execution_count": null,
   "id": "0e6d692e-4bac-48bc-ac94-3f7f23ded7b6",
   "metadata": {},
   "outputs": [],
   "source": []
  }
 ],
 "metadata": {
  "kernelspec": {
   "display_name": "Python 3 (ipykernel)",
   "language": "python",
   "name": "python3"
  },
  "language_info": {
   "codemirror_mode": {
    "name": "ipython",
    "version": 3
   },
   "file_extension": ".py",
   "mimetype": "text/x-python",
   "name": "python",
   "nbconvert_exporter": "python",
   "pygments_lexer": "ipython3",
   "version": "3.8.9"
  }
 },
 "nbformat": 4,
 "nbformat_minor": 5
}
