{
 "cells": [
  {
   "cell_type": "markdown",
   "id": "62b685c1-fe44-4f01-b9e3-5808cf10752f",
   "metadata": {},
   "source": [
    "# Chat With Your Data\n",
    "## Load Different Data Types"
   ]
  },
  {
   "cell_type": "markdown",
   "id": "6bed94b7-d5da-4c5b-a812-25ecbb1601a6",
   "metadata": {},
   "source": [
    "# Install libraries"
   ]
  },
  {
   "cell_type": "code",
   "execution_count": null,
   "id": "603889ff-e355-4c9e-929a-45e8150aa0f7",
   "metadata": {},
   "outputs": [],
   "source": [
    "pip install openai"
   ]
  },
  {
   "cell_type": "code",
   "execution_count": null,
   "id": "759ae117-0aa2-4c09-b5bd-7ce1e106ada2",
   "metadata": {},
   "outputs": [],
   "source": [
    "pip install python-dotenv"
   ]
  },
  {
   "cell_type": "code",
   "execution_count": null,
   "id": "dd511c5a",
   "metadata": {},
   "outputs": [],
   "source": [
    "pip install langchain"
   ]
  },
  {
   "cell_type": "code",
   "execution_count": null,
   "id": "ca531938",
   "metadata": {},
   "outputs": [],
   "source": [
    "pip install langchain-openai"
   ]
  },
  {
   "cell_type": "code",
   "execution_count": null,
   "id": "4a1839e2",
   "metadata": {},
   "outputs": [],
   "source": [
    "pip install pypdf"
   ]
  },
  {
   "cell_type": "code",
   "execution_count": null,
   "id": "69c527ad",
   "metadata": {},
   "outputs": [],
   "source": [
    "pip install faiss-cpu"
   ]
  },
  {
   "cell_type": "code",
   "execution_count": null,
   "id": "5f9fcee4",
   "metadata": {},
   "outputs": [],
   "source": [
    "pip install langchainhub"
   ]
  },
  {
   "cell_type": "markdown",
   "id": "596eca10-168e-4c13-b904-fab2e3110ff7",
   "metadata": {},
   "source": [
    "## Load PDF documents"
   ]
  },
  {
   "cell_type": "code",
   "execution_count": 3,
   "id": "a395efe4",
   "metadata": {},
   "outputs": [
    {
     "name": "stdout",
     "output_type": "stream",
     "text": [
      "\n",
      "\u001b[1m[\u001b[0m\u001b[34;49mnotice\u001b[0m\u001b[1;39;49m]\u001b[0m\u001b[39;49m A new release of pip is available: \u001b[0m\u001b[31;49m23.0.1\u001b[0m\u001b[39;49m -> \u001b[0m\u001b[32;49m24.1\u001b[0m\n",
      "\u001b[1m[\u001b[0m\u001b[34;49mnotice\u001b[0m\u001b[1;39;49m]\u001b[0m\u001b[39;49m To update, run: \u001b[0m\u001b[32;49mpip install --upgrade pip\u001b[0m\n",
      "Note: you may need to restart the kernel to use updated packages.\n"
     ]
    }
   ],
   "source": [
    "pip install --quiet langchain-community pypdf"
   ]
  },
  {
   "cell_type": "code",
   "execution_count": 4,
   "id": "a554804d",
   "metadata": {},
   "outputs": [
    {
     "name": "stderr",
     "output_type": "stream",
     "text": [
      "Ignoring wrong pointing object 6 0 (offset 0)\n",
      "Ignoring wrong pointing object 8 0 (offset 0)\n",
      "Ignoring wrong pointing object 12 0 (offset 0)\n",
      "Ignoring wrong pointing object 21 0 (offset 0)\n",
      "Ignoring wrong pointing object 6 0 (offset 0)\n",
      "Ignoring wrong pointing object 8 0 (offset 0)\n",
      "Ignoring wrong pointing object 18 0 (offset 0)\n",
      "Ignoring wrong pointing object 6 0 (offset 0)\n",
      "Ignoring wrong pointing object 8 0 (offset 0)\n",
      "Ignoring wrong pointing object 18 0 (offset 0)\n",
      "Ignoring wrong pointing object 6 0 (offset 0)\n",
      "Ignoring wrong pointing object 8 0 (offset 0)\n",
      "Ignoring wrong pointing object 18 0 (offset 0)\n",
      "Ignoring wrong pointing object 6 0 (offset 0)\n",
      "Ignoring wrong pointing object 8 0 (offset 0)\n",
      "Ignoring wrong pointing object 18 0 (offset 0)\n",
      "Ignoring wrong pointing object 6 0 (offset 0)\n",
      "Ignoring wrong pointing object 8 0 (offset 0)\n",
      "Ignoring wrong pointing object 18 0 (offset 0)\n"
     ]
    }
   ],
   "source": [
    "from langchain_community.document_loaders import PyPDFLoader\n",
    "\n",
    "# Load PDF\n",
    "loaders = [\n",
    "    PyPDFLoader(\"../Data/botanical.pdf\"),\n",
    "    PyPDFLoader(\"../Data/astronomical.pdf\"),\n",
    "    PyPDFLoader(\"../Data/biological.pdf\"),\n",
    "    PyPDFLoader(\"../Data/cosmological.pdf\"),\n",
    "    PyPDFLoader(\"../Data/culinary.pdf\"),\n",
    "    PyPDFLoader(\"../Data/pharmaceutical.pdf\")\n",
    "]\n",
    "\n",
    "docs = []\n",
    "\n",
    "for loader in loaders:\n",
    "    docs.extend(loader.load())"
   ]
  },
  {
   "cell_type": "code",
   "execution_count": 5,
   "id": "6f046f44",
   "metadata": {},
   "outputs": [
    {
     "data": {
      "text/plain": [
       "1574"
      ]
     },
     "execution_count": 5,
     "metadata": {},
     "output_type": "execute_result"
    }
   ],
   "source": [
    "len(docs[0].page_content)"
   ]
  },
  {
   "cell_type": "code",
   "execution_count": 7,
   "id": "36d06d6b",
   "metadata": {},
   "outputs": [
    {
     "name": "stdout",
     "output_type": "stream",
     "text": [
      "Botanical Section Botanixum Sectiorum Arcanix \n",
      " A peculiar plant with spiraling leaves and vibrant blue flowers that seem to emit a faint glow in moonlight. • Holoris spiralis: In lumine lunae, flores azuri magni brillant. • Radices mysticae: Radices intortae terram quaerunt, lumina nocturna sequentes. • Usus: Extractum florae noctem illuminat, mentem serenat.  Luminaflora Spiralis Luminaflora Spiralis thrives under the moon's tender gaze, where its spiraling leaves and vibrant blue petals unfol\n"
     ]
    }
   ],
   "source": [
    "print(docs[0].page_content[:500])"
   ]
  },
  {
   "cell_type": "code",
   "execution_count": 8,
   "id": "e8591bff-f02e-489d-a79c-475977c66f27",
   "metadata": {},
   "outputs": [
    {
     "name": "stdout",
     "output_type": "stream",
     "text": [
      "2 agricultural and ritual purposes. The intertwining of celestial paths offers a puzzle that has challenged viewers for centuries, beckoning modern interpreters to uncover its secrets.  \n",
      "  Detailed drawings of the moon in various phases, each linked to specific botanical and pharmaceutical properties as per ancient lore.  Lunae facies, in caelesti scena variabilis, herbarum crescendi artes et veneficium influent. Phasae lunares, a nova ad plenam, medicamentorum preparationem et magicae practicae fundamentum afficiunt. Lunar Phases Lunar Influence The depiction of Lunar Phases in this section serves a dual purpose: illustrating the moon's aesthetic journey through its cycles and exploring its\n"
     ]
    }
   ],
   "source": [
    "print(docs[5].page_content[:700])"
   ]
  },
  {
   "cell_type": "code",
   "execution_count": 9,
   "id": "af6d4c53",
   "metadata": {},
   "outputs": [
    {
     "data": {
      "text/plain": [
       "24"
      ]
     },
     "execution_count": 9,
     "metadata": {},
     "output_type": "execute_result"
    }
   ],
   "source": [
    "len(docs)"
   ]
  },
  {
   "cell_type": "code",
   "execution_count": 10,
   "id": "4a234d8c",
   "metadata": {},
   "outputs": [
    {
     "data": {
      "text/plain": [
       "Document(page_content=\"Botanical Section Botanixum Sectiorum Arcanix \\n A peculiar plant with spiraling leaves and vibrant blue flowers that seem to emit a faint glow in moonlight. • Holoris spiralis: In lumine lunae, flores azuri magni brillant. • Radices mysticae: Radices intortae terram quaerunt, lumina nocturna sequentes. • Usus: Extractum florae noctem illuminat, mentem serenat.  Luminaflora Spiralis Luminaflora Spiralis thrives under the moon's tender gaze, where its spiraling leaves and vibrant blue petals unfold in a mesmerizing dance of light. Believed by ancient scholars to bridge the earthly realm with the ethereal, these plants radiate a soft luminescence, guiding lost travelers through the darkest nights. Mystics and poets claim that merely being in the presence of Luminaflora can soothe troubled thoughts and illuminate the path to inner peace.   The roots of Luminaflora Spiralis are as intriguing as its blooms. Entwining deeply within the earth, they seek not water, but moonlight that filters through the soil, a phenomenon that baffles even the most learned botanists. The plant's affinity for lunar rays is reflected in its growth cycle, with each phase of the moon bringing about subtle changes in its luminescence and petal orientation. This unique symbiosis with the moon makes Luminaflora a subject of endless fascination.  In medicinal practices, extracts from Luminaflora Spiralis are highly valued for their illuminating properties. Alchemists concoct potions that harness the plant's glow, claiming such elixirs can light up one's inner darkness, dispelling \\n\", metadata={'source': '../Data/botanical.pdf', 'page': 0})"
      ]
     },
     "execution_count": 10,
     "metadata": {},
     "output_type": "execute_result"
    }
   ],
   "source": [
    "docs[0]"
   ]
  },
  {
   "cell_type": "code",
   "execution_count": 11,
   "id": "b3f10d87",
   "metadata": {},
   "outputs": [
    {
     "data": {
      "text/plain": [
       "Document(page_content=\"2 nightmares and bringing clarity to the mind. Despite its mysterious nature, the plant's allure continues to inspire both scientific inquiry and mystical speculation, embodying the elusive balance between light and dark. \\n  A dark, shadowy plant that thrives in the absence of light, its leaves absorbing darkness rather than sunlight.  • Folia umbrae: Folia nigrescunt in absentia lucis, umbram consumunt. • Flores nocturni: Flores aperiuntur solum sub umbris, stellis testibus. • Usus: Herbae umbrae visus nocturnus augentur, secretis noctis revelatis.  Noctis Umbraherba Noctis Umbraherba stands as a testament to nature's paradox, a plant that flourishes in the absence of light. Its leaves, darker than the deepest night, absorb shadows, thriving in places untouched by the sun's rays. This enigmatic flora is said to be born from the soil's whispered secrets and the moon's silent envy, a child of darkness in the purest form. It serves as a beacon for those who seek knowledge hidden in the night's embrace.  The nocturnal blossoms of Noctis Umbraherba are a rare sight, blooming only under the cover of darkness, their presence marked by an ephemeral, velvety scent that disappears at dawn. The flowers, delicate and somber, are thought to be woven from the fabric of night itself. Ancient texts speak of rituals held in the plant's honor, performed in the secrecy of night, where its petals were offered in exchange for visions of the future or glimpses of truths hidden in shadows.  The shadowy essence of Noctis Umbraherba is highly sought after by alchemists and sorcerers alike. Its extracts are believed to sharpen the senses, allowing one to see beyond the veil of reality, into realms untouched by light. Potions brewed from its dark leaves are said to grant the drinker the ability to \\n\", metadata={'source': '../Data/botanical.pdf', 'page': 1})"
      ]
     },
     "execution_count": 11,
     "metadata": {},
     "output_type": "execute_result"
    }
   ],
   "source": [
    "docs[1]"
   ]
  },
  {
   "cell_type": "code",
   "execution_count": 12,
   "id": "b801f4a4-db2c-44d3-89d1-d86d052b23e4",
   "metadata": {},
   "outputs": [
    {
     "data": {
      "text/plain": [
       "Document(page_content='4 microcosm of the universe, capable of profound transformation. The text likely explores themes of purification, renewal, and the harmonization of bodily humors, providing a window into the spiritual beliefs and practices that accompanied ancient medicine. This holistic approach highlights the interconnectedness of body, mind, and cosmos in the pursuit of health and longevity.   ', metadata={'source': '../Data/pharmaceutical.pdf', 'page': 3})"
      ]
     },
     "execution_count": 12,
     "metadata": {},
     "output_type": "execute_result"
    }
   ],
   "source": [
    "docs[23]"
   ]
  },
  {
   "cell_type": "code",
   "execution_count": null,
   "id": "9222327b-b1fa-4cad-941d-f7c61686c52b",
   "metadata": {},
   "outputs": [],
   "source": []
  }
 ],
 "metadata": {
  "kernelspec": {
   "display_name": "Python 3 (ipykernel)",
   "language": "python",
   "name": "python3"
  },
  "language_info": {
   "codemirror_mode": {
    "name": "ipython",
    "version": 3
   },
   "file_extension": ".py",
   "mimetype": "text/x-python",
   "name": "python",
   "nbconvert_exporter": "python",
   "pygments_lexer": "ipython3",
   "version": "3.10.14"
  }
 },
 "nbformat": 4,
 "nbformat_minor": 5
}
