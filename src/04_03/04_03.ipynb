{
 "cells": [
  {
   "cell_type": "markdown",
   "id": "62b685c1-fe44-4f01-b9e3-5808cf10752f",
   "metadata": {},
   "source": [
    "# Chat With Your Data\n",
    "\n",
    "## Perform question answering"
   ]
  },
  {
   "cell_type": "markdown",
   "id": "6bed94b7-d5da-4c5b-a812-25ecbb1601a6",
   "metadata": {},
   "source": [
    "# Install libraries"
   ]
  },
  {
   "cell_type": "code",
   "execution_count": null,
   "id": "603889ff-e355-4c9e-929a-45e8150aa0f7",
   "metadata": {},
   "outputs": [],
   "source": [
    "pip install openai"
   ]
  },
  {
   "cell_type": "code",
   "execution_count": null,
   "id": "759ae117-0aa2-4c09-b5bd-7ce1e106ada2",
   "metadata": {},
   "outputs": [],
   "source": [
    "pip install python-dotenv"
   ]
  },
  {
   "cell_type": "code",
   "execution_count": null,
   "id": "dd511c5a",
   "metadata": {},
   "outputs": [],
   "source": [
    "pip install langchain"
   ]
  },
  {
   "cell_type": "code",
   "execution_count": null,
   "id": "ca531938",
   "metadata": {},
   "outputs": [],
   "source": [
    "pip install langchain-openai"
   ]
  },
  {
   "cell_type": "code",
   "execution_count": null,
   "id": "4a1839e2",
   "metadata": {},
   "outputs": [],
   "source": [
    "pip install pypdf"
   ]
  },
  {
   "cell_type": "code",
   "execution_count": null,
   "id": "69c527ad",
   "metadata": {},
   "outputs": [],
   "source": [
    "pip install faiss-cpu"
   ]
  },
  {
   "cell_type": "code",
   "execution_count": null,
   "id": "5f9fcee4",
   "metadata": {},
   "outputs": [],
   "source": [
    "pip install langchainhub"
   ]
  },
  {
   "cell_type": "markdown",
   "id": "3ef23fe7-5c16-4f30-97e4-b679c75e716d",
   "metadata": {},
   "source": [
    "## Load OpenAI API Key"
   ]
  },
  {
   "cell_type": "code",
   "execution_count": 50,
   "id": "77f69144-98d1-46a1-94be-8eea00065278",
   "metadata": {},
   "outputs": [],
   "source": [
    "import os\n",
    "\n",
    "from dotenv import load_dotenv, find_dotenv\n",
    "_ = load_dotenv(find_dotenv()) # read local .env file\n",
    "\n",
    "OPENAI_API_KEY=os.environ['OPENAI_API_KEY']"
   ]
  },
  {
   "cell_type": "markdown",
   "id": "959501e7-3a7c-456e-93f1-0561979e81c4",
   "metadata": {},
   "source": [
    "## Prompt model with no knowledge of the Voynich manuscript"
   ]
  },
  {
   "cell_type": "code",
   "execution_count": 51,
   "id": "c71c0d74-1911-4082-8bc2-c930607fb800",
   "metadata": {},
   "outputs": [],
   "source": [
    "from langchain_openai import ChatOpenAI\n",
    "\n",
    "#initialize the LLM we'll use - OpenAI GPT 3.5 Turbo\n",
    "llm = ChatOpenAI(openai_api_key=OPENAI_API_KEY, model=\"gpt-3.5-turbo-0125\")"
   ]
  },
  {
   "cell_type": "code",
   "execution_count": 52,
   "id": "67a63a96-ddfb-4beb-a699-d2c035ae67cb",
   "metadata": {},
   "outputs": [
    {
     "data": {
      "text/plain": [
       "AIMessage(content='The Voynich manuscript is a mysterious and undeciphered text that is believed to date back to the 15th century. It contains illustrations of plants, astrological symbols, and mysterious text that has yet to be translated. Some researchers have suggested that the manuscript could contain medicinal insights, as it appears to depict various plants and herbs that may have been used for medicinal purposes in medieval times.\\n\\nHowever, without a clear understanding of the text contained in the manuscript, it is difficult to determine the exact medicinal insights that may be present. Some researchers have proposed that the illustrations of plants in the manuscript could be a form of early botanical knowledge, potentially containing information on herbal remedies and medicinal practices of the time.\\n\\nOverall, while the Voynich manuscript remains a fascinating and enigmatic text, its true medicinal insights remain unknown until the text can be successfully deciphered.', response_metadata={'token_usage': {'completion_tokens': 173, 'prompt_tokens': 19, 'total_tokens': 192}, 'model_name': 'gpt-3.5-turbo-0125', 'system_fingerprint': 'fp_c2295e73ad', 'finish_reason': 'stop', 'logprobs': None})"
      ]
     },
     "execution_count": 52,
     "metadata": {},
     "output_type": "execute_result"
    }
   ],
   "source": [
    "#prompt the model with no additional knowledge of the Voynich manuscript beyond pretraining \n",
    "llm.invoke(\"What are the medicinal insights from the Voynich manuscript?\")  "
   ]
  },
  {
   "cell_type": "code",
   "execution_count": 53,
   "id": "135b5589-664b-4ce7-aa2f-d593e9758c25",
   "metadata": {},
   "outputs": [
    {
     "data": {
      "text/plain": [
       "AIMessage(content='Aetherfloris Ventus is a term that appears to be a combination of Latin words, translating to \"ether flower wind\" in English. It could be a creative or poetic description of a floral scent carried by the wind, or it could be a name given to a specific product or concept related to flowers and wind. Without more context, it is difficult to determine the specific meaning of Aetherfloris Ventus.', response_metadata={'token_usage': {'completion_tokens': 85, 'prompt_tokens': 16, 'total_tokens': 101}, 'model_name': 'gpt-3.5-turbo-0125', 'system_fingerprint': 'fp_c2295e73ad', 'finish_reason': 'stop', 'logprobs': None})"
      ]
     },
     "execution_count": 53,
     "metadata": {},
     "output_type": "execute_result"
    }
   ],
   "source": [
    "llm.invoke(\"What is Aetherfloris Ventus?\")"
   ]
  },
  {
   "cell_type": "markdown",
   "id": "cafecdae-eaf9-471f-b69d-9b1c3ac0b9d2",
   "metadata": {},
   "source": [
    "## Load vector database from disk"
   ]
  },
  {
   "cell_type": "code",
   "execution_count": 54,
   "id": "0788aef1-0fe8-4205-ba3d-741bb5cf392a",
   "metadata": {},
   "outputs": [],
   "source": [
    "from langchain_openai import OpenAIEmbeddings\n",
    "from langchain_community.vectorstores import FAISS\n",
    "\n",
    "\n",
    "db = FAISS.load_local(\"../faiss_index\", \n",
    "                      OpenAIEmbeddings(openai_api_key=OPENAI_API_KEY, model=\"text-embedding-3-small\"), \n",
    "                      allow_dangerous_deserialization=True)"
   ]
  },
  {
   "cell_type": "markdown",
   "id": "35b7e3f2-eaba-4fa1-aced-d79431959cd9",
   "metadata": {},
   "source": [
    "## Configure retriever\n",
    "### Use the similarity search capabilities of a vector store to facilitate retrieval"
   ]
  },
  {
   "cell_type": "code",
   "execution_count": 55,
   "id": "1ec80ca7-918a-4898-b64d-4cee56d8141a",
   "metadata": {},
   "outputs": [],
   "source": [
    "retriever = db.as_retriever(search_type=\"similarity\", search_kwargs={\"k\": 6})"
   ]
  },
  {
   "cell_type": "markdown",
   "id": "6bc0fd64-aa2e-46fe-a2c6-a0b8ca109d76",
   "metadata": {},
   "source": [
    "## Preserve Conversation History "
   ]
  },
  {
   "cell_type": "code",
   "execution_count": 56,
   "id": "732ea316-19cb-435f-b822-fb0647925980",
   "metadata": {},
   "outputs": [],
   "source": [
    "from langchain.chains import create_history_aware_retriever\n",
    "from langchain_core.prompts import ChatPromptTemplate, MessagesPlaceholder\n",
    "\n",
    "system_prompt = \"\"\"Given the chat history and a recent user question \\\n",
    "generate a new standalone question \\\n",
    "that can be understood without the chat history. Do NOT answer the question, \\\n",
    "just reformulate it if needed or otherwise return it as is.\"\"\"\n",
    "\n",
    "prompt = ChatPromptTemplate.from_messages(\n",
    "    [\n",
    "        (\"system\", system_prompt),\n",
    "        MessagesPlaceholder(\"chat_history\"),\n",
    "        (\"human\", \"{input}\"),\n",
    "    ]\n",
    ")\n",
    "\n",
    "retriever_with_history = create_history_aware_retriever(\n",
    "    llm, retriever, prompt\n",
    ")"
   ]
  },
  {
   "cell_type": "markdown",
   "id": "f05940ef-89cd-4cc5-86e3-9a27f00f94a9",
   "metadata": {},
   "source": [
    "## Perform question answering with chat history"
   ]
  },
  {
   "cell_type": "code",
   "execution_count": 57,
   "id": "5c79f88f-5924-4f52-ab0e-3825e16b2be7",
   "metadata": {},
   "outputs": [],
   "source": [
    "from langchain.chains import create_retrieval_chain\n",
    "from langchain.chains.combine_documents import create_stuff_documents_chain\n",
    "\n",
    "qa_system_prompt = \"\"\"You are an assistant for question-answering tasks. \\\n",
    "Use the following pieces of retrieved context to answer the question. \\\n",
    "If you don't know the answer, just say that you don't know. \\\n",
    "Use three sentences maximum and keep the answer concise.\\\n",
    "\n",
    "{context}\"\"\"\n",
    "\n",
    "qa_prompt = ChatPromptTemplate.from_messages(\n",
    "    [\n",
    "        (\"system\", qa_system_prompt),\n",
    "        MessagesPlaceholder(\"chat_history\"),\n",
    "        (\"human\", \"{input}\"),\n",
    "    ]\n",
    ")\n",
    "\n",
    "\n",
    "question_answer_chain = create_stuff_documents_chain(llm, qa_prompt)\n",
    "\n",
    "rag_chain = create_retrieval_chain(retriever_with_history, question_answer_chain)"
   ]
  },
  {
   "cell_type": "code",
   "execution_count": 58,
   "id": "2b0088c4-b593-404e-a9d5-36649862efe2",
   "metadata": {},
   "outputs": [
    {
     "name": "stdout",
     "output_type": "stream",
     "text": [
      "Aetherfloris Ventus is a celestial plant with petals lighter than air, appearing to float freely, nurtured by the breath of the winds and whispers of the clouds. Its nearly invisible stem dances with the breeze, leading the petals in a delicate ballet, inspiring myths and legends. In the realm of alchemy, its essence is treasured for bestowing lightness upon those who partake.\n"
     ]
    }
   ],
   "source": [
    "from langchain_core.messages import HumanMessage\n",
    "\n",
    "chat_history = []\n",
    "\n",
    "question = \"What is Aetherfloris Ventus?\"\n",
    "\n",
    "ai_msg_1 = rag_chain.invoke({\"input\": question, \"chat_history\": chat_history})\n",
    "\n",
    "chat_history.extend([HumanMessage(content=question), ai_msg_1[\"answer\"]])\n",
    "\n",
    "print(ai_msg_1[\"answer\"])"
   ]
  },
  {
   "cell_type": "code",
   "execution_count": 59,
   "id": "b75d4d60-4b6b-49c6-a876-0a98bb2fbf5a",
   "metadata": {},
   "outputs": [
    {
     "name": "stdout",
     "output_type": "stream",
     "text": [
      "A single drop of Aetherfloris Ventus can lift spirits, freeing the mind from earthly burdens, encouraging thoughts to soar and dreams to take flight. Its essence, captured in rare vials, is believed to bestow the gift of lightness upon those who partake, inspiring a sense of weightlessness and freedom. The true nature of Aetherfloris Ventus eludes even dedicated seekers, remaining a mysterious treasure in the natural world.\n"
     ]
    }
   ],
   "source": [
    "second_question = \"What does a single drop of it do?\"\n",
    "\n",
    "ai_msg_2 = rag_chain.invoke({\"input\": second_question, \"chat_history\": chat_history})\n",
    "print(ai_msg_2[\"answer\"])"
   ]
  },
  {
   "cell_type": "code",
   "execution_count": 60,
   "id": "67bfb493-0c2c-454d-8328-b83aed28406c",
   "metadata": {},
   "outputs": [
    {
     "name": "stdout",
     "output_type": "stream",
     "text": [
      "Aetherfloris Ventus is a celestial plant with light petals that appear to float freely, nurtured by wind and clouds, while Noctis Umbraherba is a shadowy plant thriving in darkness, with leaves that absorb shadows and blossoms blooming only at night. Aetherfloris Ventus embodies the essence of the sky, while Noctis Umbraherba is a plant shrouded in mystery, a whispered legend in botany.\n"
     ]
    }
   ],
   "source": [
    "third_question = \"How does it compare to Noctis Umbraherba?\"\n",
    "ai_msg_3 = rag_chain.invoke({\"input\": third_question, \"chat_history\": chat_history})\n",
    "print(ai_msg_3[\"answer\"])"
   ]
  },
  {
   "cell_type": "code",
   "execution_count": 61,
   "id": "e2b60c6b-57bc-44da-9706-0060095635e3",
   "metadata": {},
   "outputs": [
    {
     "name": "stdout",
     "output_type": "stream",
     "text": [
      "The Biological section of the Voynich Manuscript is crucial as it showcases a diversity of life forms, both creatures and plants, in a mysterious and enigmatic manner. It delves into intricate anatomical details, revealing complex and interconnected life systems that spark curiosity and exploration. The section not only demonstrates a blend of science and mystique but also provides a window into ancient perceptions of life, offering insights into how these beings and plants were understood and possibly utilized in various practices.\n"
     ]
    }
   ],
   "source": [
    "fourth_question = \"Do you think the Biological section of the Voynich Manuscript is important?\"\n",
    "ai_msg_4 = rag_chain.invoke({\"input\": fourth_question, \"chat_history\": chat_history})\n",
    "print(ai_msg_4[\"answer\"])"
   ]
  },
  {
   "cell_type": "code",
   "execution_count": null,
   "id": "fa85681a-098d-48ed-a68f-bc9c40da00b6",
   "metadata": {},
   "outputs": [],
   "source": []
  }
 ],
 "metadata": {
  "kernelspec": {
   "display_name": "Python 3 (ipykernel)",
   "language": "python",
   "name": "python3"
  },
  "language_info": {
   "codemirror_mode": {
    "name": "ipython",
    "version": 3
   },
   "file_extension": ".py",
   "mimetype": "text/x-python",
   "name": "python",
   "nbconvert_exporter": "python",
   "pygments_lexer": "ipython3",
   "version": "3.8.9"
  }
 },
 "nbformat": 4,
 "nbformat_minor": 5
}
