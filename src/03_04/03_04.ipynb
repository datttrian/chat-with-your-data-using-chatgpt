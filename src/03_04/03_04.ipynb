{
 "cells": [
  {
   "cell_type": "markdown",
   "id": "62b685c1-fe44-4f01-b9e3-5808cf10752f",
   "metadata": {},
   "source": [
    "# Chat With Your Data\n",
    "\n",
    "## Solution: Conduct Semantic Searching"
   ]
  },
  {
   "cell_type": "markdown",
   "id": "6bed94b7-d5da-4c5b-a812-25ecbb1601a6",
   "metadata": {},
   "source": [
    "# Install libraries"
   ]
  },
  {
   "cell_type": "code",
   "execution_count": null,
   "id": "603889ff-e355-4c9e-929a-45e8150aa0f7",
   "metadata": {},
   "outputs": [],
   "source": [
    "pip install openai"
   ]
  },
  {
   "cell_type": "code",
   "execution_count": null,
   "id": "759ae117-0aa2-4c09-b5bd-7ce1e106ada2",
   "metadata": {},
   "outputs": [],
   "source": [
    "pip install python-dotenv"
   ]
  },
  {
   "cell_type": "code",
   "execution_count": null,
   "id": "dd511c5a",
   "metadata": {},
   "outputs": [],
   "source": [
    "pip install langchain"
   ]
  },
  {
   "cell_type": "code",
   "execution_count": null,
   "id": "ca531938",
   "metadata": {},
   "outputs": [],
   "source": [
    "pip install langchain-openai"
   ]
  },
  {
   "cell_type": "code",
   "execution_count": null,
   "id": "4a1839e2",
   "metadata": {},
   "outputs": [],
   "source": [
    "pip install pypdf"
   ]
  },
  {
   "cell_type": "code",
   "execution_count": null,
   "id": "69c527ad",
   "metadata": {},
   "outputs": [],
   "source": [
    "pip install faiss-cpu"
   ]
  },
  {
   "cell_type": "code",
   "execution_count": null,
   "id": "5f9fcee4",
   "metadata": {},
   "outputs": [],
   "source": [
    "pip install langchainhub"
   ]
  },
  {
   "cell_type": "markdown",
   "id": "1ee3fe67-bad1-4305-bdfc-0a9ed449fb99",
   "metadata": {},
   "source": [
    "## Helper functions"
   ]
  },
  {
   "cell_type": "code",
   "execution_count": 2,
   "id": "b694cfeb-1653-4555-84ce-875b3885150f",
   "metadata": {},
   "outputs": [],
   "source": [
    "def print_output(docs):\n",
    "    for doc in docs:\n",
    "        print('The output is: {}. \\n\\nThe metadata is {} \\n\\n'.format(doc.page_content, doc.metadata))    "
   ]
  },
  {
   "cell_type": "markdown",
   "id": "3ef23fe7-5c16-4f30-97e4-b679c75e716d",
   "metadata": {},
   "source": [
    "## Load OpenAI API Key"
   ]
  },
  {
   "cell_type": "code",
   "execution_count": 3,
   "id": "77f69144-98d1-46a1-94be-8eea00065278",
   "metadata": {},
   "outputs": [],
   "source": [
    "import os\n",
    "\n",
    "from dotenv import load_dotenv, find_dotenv\n",
    "_ = load_dotenv(find_dotenv()) # read local .env file\n",
    "\n",
    "OPENAI_API_KEY=os.environ['OPENAI_API_KEY']"
   ]
  },
  {
   "cell_type": "markdown",
   "id": "cafecdae-eaf9-471f-b69d-9b1c3ac0b9d2",
   "metadata": {},
   "source": [
    "## Load vector database from disk"
   ]
  },
  {
   "cell_type": "code",
   "execution_count": 5,
   "id": "0788aef1-0fe8-4205-ba3d-741bb5cf392a",
   "metadata": {},
   "outputs": [],
   "source": [
    "from langchain_openai import OpenAIEmbeddings\n",
    "from langchain_community.vectorstores import FAISS\n",
    "\n",
    "\n",
    "db = FAISS.load_local(\"../faiss_index\", \n",
    "                      OpenAIEmbeddings(openai_api_key=OPENAI_API_KEY, model=\"text-embedding-3-small\"), \n",
    "                      allow_dangerous_deserialization=True)"
   ]
  },
  {
   "cell_type": "markdown",
   "id": "94184d22-46ad-45e7-8a00-38c298b7e607",
   "metadata": {},
   "source": [
    "## Perform semantic search"
   ]
  },
  {
   "cell_type": "code",
   "execution_count": 6,
   "id": "82dd70e3-e3ca-4b2d-a238-3ed466e41618",
   "metadata": {},
   "outputs": [],
   "source": [
    "docs = db.similarity_search(\"What are the medicinal insights from the Voynich manuscript?\")"
   ]
  },
  {
   "cell_type": "code",
   "execution_count": 7,
   "id": "54c02003-3a39-41a7-bbc1-a22b70ca5c3a",
   "metadata": {},
   "outputs": [
    {
     "data": {
      "text/plain": [
       "4"
      ]
     },
     "execution_count": 7,
     "metadata": {},
     "output_type": "execute_result"
    }
   ],
   "source": [
    "#length of search results returned\n",
    "len(docs)"
   ]
  },
  {
   "cell_type": "code",
   "execution_count": 8,
   "id": "ff62b2cc-cebc-43ab-a2ff-d785f40ca73c",
   "metadata": {},
   "outputs": [
    {
     "name": "stdout",
     "output_type": "stream",
     "text": [
      "The output is: Detailed anatomical diagrams of mythical beings, possibly used for medicinal or alchemical purposes, with annotations explaining the function of each organ and system.  Anatomical Wonders Intricate Anatomical Details The anatomical diagrams of mythical beings within the Voynich Manuscript offer a fascinating glimpse into what might be ancient medical knowledge intertwined with fantasy. These detailed drawings display the internal structures of creatures that defy familiar biological categories, featuring organs and systems that, while imaginative, are rendered with precise anatomical accuracy. Each illustration is annotated, possibly indicating the functions of various organs and their importance in alchemical or medicinal practices.  Medicinal and Alchemical Connections It is speculated that these diagrams served not only as a compendium of fantastical biology but also as a practical guide for medicinal and alchemical uses. The organs of these mythical creatures might have been believed to possess magical properties, useful in the preparation of potions or remedies. \n",
      "\n",
      "The metadata is {'source': '../Data/biological.pdf', 'page': 1} \n",
      "\n",
      "\n",
      "The output is: An array of mysterious herbs, each with unique properties, depicted with precise botanical detail, possibly indicating their medicinal uses. Herbae mysteriosae, curativis proprietatibus plenae, in manuscripto depictae. Herbal Remedies Diverse Medicinal Properties The Herbal Remedies section of the manuscript is a colorful compendium of various herbs, each illustrated with remarkable detail, suggesting their use in treating ailments. These plants are not just botanically accurate; they seem to carry specific annotations about their healing properties, whether it's soothing pain, curing infections, or enhancing vitality. The detailed depictions serve as a bridge between ancient botanical knowledge and the mysterious lore surrounding herbal medicine.  Cultural and Historical Significance The herbs depicted often have a dual role in both culinary and medicinal practices, indicating their importance across various cultures and epochs. These illustrations may provide insights into the dietary and health practices of the time, revealing how herbs were integral to daily life and survival. The manuscript possibly doubles as a practical guide and a pharmacopeial treasure, preserving knowledge that might have otherwise been lost through the ages.  Pharmacological Applications The annotations likely include recipes for concoctions and mixtures, detailing ratios and preparation methods that. \n",
      "\n",
      "The metadata is {'source': '../Data/pharmaceutical.pdf', 'page': 0} \n",
      "\n",
      "\n",
      "The output is: Detailed drawings of herbal brews and potions, each with specific effects, such as enhancing stamina or curing maladies.  Infusiones herbarum ad vires augendas et morbos sanandos. Herbal Brews and Potions Herbal Mastery This page details the preparation of various herbal brews and potions, each carefully crafted to enhance health, vitality, or even spiritual well-being. The illustrations provide a detailed look at the herbs used, their proportions, and the methods of preparation, from simple infusions to complex concoctions requiring precise timing and conditions. Each potion is associated with specific effects, such as boosting energy, calming nerves, or curing diseases.  Alchemy of Flavors The potions blend the alchemy of flavors with practical pharmacology, embodying the ancient belief in the power of plants to affect body and mind. This section might reveal the manuscript's deeper layers, where culinary practice meets mysticism, and each brew is as much a spiritual ritual as a physical remedy. The cryptic annotations could hint at lost knowledge of herbal properties, passed down through generations of healers.  Cultural and Medicinal Insights Beyond their immediate use, these brews offer insights into the cultural attitudes towards healing and magic. The. \n",
      "\n",
      "The metadata is {'source': '../Data/culinary.pdf', 'page': 1} \n",
      "\n",
      "\n",
      "The output is: 3 in alchemy or witchcraft. Their inclusion in the manuscript could hint at a broader narrative of how such plants were perceived and used in spiritual or transformational practices, revealing a layer of cultural mystique and the interplay between science and superstition.. \n",
      "\n",
      "The metadata is {'source': '../Data/pharmaceutical.pdf', 'page': 2} \n",
      "\n",
      "\n"
     ]
    }
   ],
   "source": [
    "print_output(docs)"
   ]
  },
  {
   "cell_type": "code",
   "execution_count": null,
   "id": "cd318e9a-a2ef-40f7-8581-411a3c9a3240",
   "metadata": {},
   "outputs": [],
   "source": []
  }
 ],
 "metadata": {
  "kernelspec": {
   "display_name": "Python 3 (ipykernel)",
   "language": "python",
   "name": "python3"
  },
  "language_info": {
   "codemirror_mode": {
    "name": "ipython",
    "version": 3
   },
   "file_extension": ".py",
   "mimetype": "text/x-python",
   "name": "python",
   "nbconvert_exporter": "python",
   "pygments_lexer": "ipython3",
   "version": "3.8.9"
  }
 },
 "nbformat": 4,
 "nbformat_minor": 5
}
