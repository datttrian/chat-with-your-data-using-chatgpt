{
 "cells": [
  {
   "cell_type": "markdown",
   "id": "62b685c1-fe44-4f01-b9e3-5808cf10752f",
   "metadata": {},
   "source": [
    "# Chat With Your Data\n",
    "\n",
    "## Persist Data to Vector Stores"
   ]
  },
  {
   "cell_type": "markdown",
   "id": "6bed94b7-d5da-4c5b-a812-25ecbb1601a6",
   "metadata": {},
   "source": [
    "# Install libraries"
   ]
  },
  {
   "cell_type": "code",
   "execution_count": null,
   "id": "603889ff-e355-4c9e-929a-45e8150aa0f7",
   "metadata": {},
   "outputs": [],
   "source": [
    "pip install openai"
   ]
  },
  {
   "cell_type": "code",
   "execution_count": null,
   "id": "759ae117-0aa2-4c09-b5bd-7ce1e106ada2",
   "metadata": {},
   "outputs": [],
   "source": [
    "pip install python-dotenv"
   ]
  },
  {
   "cell_type": "code",
   "execution_count": null,
   "id": "dd511c5a",
   "metadata": {},
   "outputs": [],
   "source": [
    "pip install langchain"
   ]
  },
  {
   "cell_type": "code",
   "execution_count": null,
   "id": "ca531938",
   "metadata": {},
   "outputs": [],
   "source": [
    "pip install langchain-openai"
   ]
  },
  {
   "cell_type": "code",
   "execution_count": null,
   "id": "4a1839e2",
   "metadata": {},
   "outputs": [],
   "source": [
    "pip install pypdf"
   ]
  },
  {
   "cell_type": "code",
   "execution_count": null,
   "id": "69c527ad",
   "metadata": {},
   "outputs": [],
   "source": [
    "pip install faiss-cpu"
   ]
  },
  {
   "cell_type": "code",
   "execution_count": null,
   "id": "5f9fcee4",
   "metadata": {},
   "outputs": [],
   "source": [
    "pip install langchainhub"
   ]
  },
  {
   "cell_type": "markdown",
   "id": "00a1dd5a-612c-4225-90c3-389bc2984aaa",
   "metadata": {},
   "source": [
    "## Load OpenAI API Key to use OpenAI's embedding model"
   ]
  },
  {
   "cell_type": "code",
   "execution_count": 25,
   "id": "d7230fb9-edec-4022-8fa2-0108e6587f31",
   "metadata": {},
   "outputs": [],
   "source": [
    "import os\n",
    "\n",
    "from dotenv import load_dotenv, find_dotenv\n",
    "_ = load_dotenv(find_dotenv()) # read local .env file"
   ]
  },
  {
   "cell_type": "code",
   "execution_count": 26,
   "id": "383ee64d-c0b7-4d16-ae88-86fd60411cb2",
   "metadata": {},
   "outputs": [],
   "source": [
    "OPENAI_API_KEY=os.environ['OPENAI_API_KEY']"
   ]
  },
  {
   "cell_type": "markdown",
   "id": "ec58a3a5-e86d-4486-bc11-82f5afd116d9",
   "metadata": {},
   "source": [
    "## Load documents"
   ]
  },
  {
   "cell_type": "code",
   "execution_count": 27,
   "id": "a0a7b7ad-9366-4611-9d66-157652365f0c",
   "metadata": {},
   "outputs": [],
   "source": [
    "from langchain.document_loaders import PyPDFLoader\n",
    "\n",
    "loader = PyPDFLoader('michelle_obama_speech.pdf')\n",
    "pages = loader.load()"
   ]
  },
  {
   "cell_type": "markdown",
   "id": "8682ce53-9173-4bbb-9f9c-a8c497ece3d2",
   "metadata": {},
   "source": [
    "## Chunk documents"
   ]
  },
  {
   "cell_type": "code",
   "execution_count": 32,
   "id": "920ee1b5-8551-4bdd-957e-b33caf142ab4",
   "metadata": {},
   "outputs": [],
   "source": [
    "from langchain_openai import OpenAIEmbeddings\n",
    "from langchain_text_splitters import CharacterTextSplitter\n",
    "\n",
    "# Load the document, split it into chunks\n",
    "text_splitter = CharacterTextSplitter(chunk_size=1000, chunk_overlap=0)\n",
    "documents = text_splitter.split_documents(pages)"
   ]
  },
  {
   "cell_type": "markdown",
   "id": "102f38df-c4be-45b9-8cd5-5bd63b9b787a",
   "metadata": {},
   "source": [
    "# Generate embeddings and store in vector database\n",
    "## FAISS vector database"
   ]
  },
  {
   "cell_type": "code",
   "execution_count": 29,
   "id": "51379225-5562-4a65-bfe9-adbec6914a50",
   "metadata": {},
   "outputs": [],
   "source": [
    "from langchain_community.vectorstores import FAISS\n",
    "\n",
    "# Load it into the vector store and embed\n",
    "vectordb = FAISS.from_documents(documents, OpenAIEmbeddings(openai_api_key=OPENAI_API_KEY, model=\"text-embedding-3-small\"))"
   ]
  },
  {
   "cell_type": "code",
   "execution_count": 30,
   "id": "75dd936d-9a7d-4a31-a30c-9cb6a7d0f7ad",
   "metadata": {},
   "outputs": [
    {
     "name": "stdout",
     "output_type": "stream",
     "text": [
      "8\n"
     ]
    }
   ],
   "source": [
    "print(vectordb.index.ntotal)"
   ]
  },
  {
   "cell_type": "markdown",
   "id": "956e6caf-9748-4071-8fc8-069d17fa7d29",
   "metadata": {},
   "source": [
    "## Persist Data in your Vector Store"
   ]
  },
  {
   "cell_type": "code",
   "execution_count": 31,
   "id": "27ca8889-f3f2-4d76-a167-df0b6c951e39",
   "metadata": {},
   "outputs": [],
   "source": [
    "vectordb.save_local(\"faiss2_index\")"
   ]
  },
  {
   "cell_type": "markdown",
   "id": "1de4c9d0-dc56-4c47-ae74-92868ba6a7c4",
   "metadata": {},
   "source": [
    "## Load Vector Store"
   ]
  },
  {
   "cell_type": "code",
   "execution_count": 24,
   "id": "0347129a-410a-485d-8ce7-21787841a5b8",
   "metadata": {},
   "outputs": [],
   "source": [
    "new_db = FAISS.load_local(\"faiss2_index\", embeddings_model, allow_dangerous_deserialization=True)"
   ]
  }
 ],
 "metadata": {
  "kernelspec": {
   "display_name": "Python 3 (ipykernel)",
   "language": "python",
   "name": "python3"
  },
  "language_info": {
   "codemirror_mode": {
    "name": "ipython",
    "version": 3
   },
   "file_extension": ".py",
   "mimetype": "text/x-python",
   "name": "python",
   "nbconvert_exporter": "python",
   "pygments_lexer": "ipython3",
   "version": "3.8.9"
  }
 },
 "nbformat": 4,
 "nbformat_minor": 5
}
