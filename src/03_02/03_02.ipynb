{
 "cells": [
  {
   "cell_type": "markdown",
   "id": "62b685c1-fe44-4f01-b9e3-5808cf10752f",
   "metadata": {},
   "source": [
    "# Chat With Your Data\n",
    "\n",
    "## Perform Semantic Search"
   ]
  },
  {
   "cell_type": "markdown",
   "id": "6bed94b7-d5da-4c5b-a812-25ecbb1601a6",
   "metadata": {},
   "source": [
    "# Install libraries"
   ]
  },
  {
   "cell_type": "code",
   "execution_count": null,
   "id": "603889ff-e355-4c9e-929a-45e8150aa0f7",
   "metadata": {},
   "outputs": [],
   "source": [
    "pip install openai"
   ]
  },
  {
   "cell_type": "code",
   "execution_count": null,
   "id": "759ae117-0aa2-4c09-b5bd-7ce1e106ada2",
   "metadata": {},
   "outputs": [],
   "source": [
    "pip install python-dotenv"
   ]
  },
  {
   "cell_type": "code",
   "execution_count": null,
   "id": "dd511c5a",
   "metadata": {},
   "outputs": [],
   "source": [
    "pip install langchain"
   ]
  },
  {
   "cell_type": "code",
   "execution_count": null,
   "id": "ca531938",
   "metadata": {},
   "outputs": [],
   "source": [
    "pip install langchain-openai"
   ]
  },
  {
   "cell_type": "code",
   "execution_count": null,
   "id": "4a1839e2",
   "metadata": {},
   "outputs": [],
   "source": [
    "pip install pypdf"
   ]
  },
  {
   "cell_type": "code",
   "execution_count": null,
   "id": "69c527ad",
   "metadata": {},
   "outputs": [],
   "source": [
    "pip install faiss-cpu"
   ]
  },
  {
   "cell_type": "code",
   "execution_count": null,
   "id": "5f9fcee4",
   "metadata": {},
   "outputs": [],
   "source": [
    "pip install langchainhub"
   ]
  },
  {
   "cell_type": "markdown",
   "id": "1ee3fe67-bad1-4305-bdfc-0a9ed449fb99",
   "metadata": {},
   "source": [
    "## Helper functions"
   ]
  },
  {
   "cell_type": "code",
   "execution_count": 1,
   "id": "b694cfeb-1653-4555-84ce-875b3885150f",
   "metadata": {},
   "outputs": [],
   "source": [
    "def print_output(docs):\n",
    "    for doc in docs:\n",
    "        print('The output is: {}. \\n\\nThe metadata is {} \\n\\n'.format(doc.page_content, doc.metadata))    "
   ]
  },
  {
   "cell_type": "markdown",
   "id": "3ef23fe7-5c16-4f30-97e4-b679c75e716d",
   "metadata": {},
   "source": [
    "## Load OpenAI API Key"
   ]
  },
  {
   "cell_type": "code",
   "execution_count": 2,
   "id": "77f69144-98d1-46a1-94be-8eea00065278",
   "metadata": {},
   "outputs": [],
   "source": [
    "import os\n",
    "\n",
    "from dotenv import load_dotenv, find_dotenv\n",
    "_ = load_dotenv(find_dotenv()) # read local .env file\n",
    "\n",
    "OPENAI_API_KEY=os.environ['OPENAI_API_KEY']"
   ]
  },
  {
   "cell_type": "markdown",
   "id": "cafecdae-eaf9-471f-b69d-9b1c3ac0b9d2",
   "metadata": {},
   "source": [
    "## Load vector database from disk"
   ]
  },
  {
   "cell_type": "code",
   "execution_count": 3,
   "id": "0788aef1-0fe8-4205-ba3d-741bb5cf392a",
   "metadata": {},
   "outputs": [],
   "source": [
    "from langchain_openai import OpenAIEmbeddings\n",
    "from langchain_community.vectorstores import FAISS\n",
    "\n",
    "\n",
    "db = FAISS.load_local(\"../faiss_index\", \n",
    "                      OpenAIEmbeddings(openai_api_key=OPENAI_API_KEY, model=\"text-embedding-3-small\"), \n",
    "                      allow_dangerous_deserialization=True)"
   ]
  },
  {
   "cell_type": "markdown",
   "id": "94184d22-46ad-45e7-8a00-38c298b7e607",
   "metadata": {},
   "source": [
    "## Perform semantic search"
   ]
  },
  {
   "cell_type": "code",
   "execution_count": 4,
   "id": "82dd70e3-e3ca-4b2d-a238-3ed466e41618",
   "metadata": {},
   "outputs": [],
   "source": [
    "docs = db.similarity_search(\"What is Aetherfloris Ventus\")"
   ]
  },
  {
   "cell_type": "code",
   "execution_count": 5,
   "id": "54c02003-3a39-41a7-bbc1-a22b70ca5c3a",
   "metadata": {},
   "outputs": [
    {
     "data": {
      "text/plain": [
       "4"
      ]
     },
     "execution_count": 5,
     "metadata": {},
     "output_type": "execute_result"
    }
   ],
   "source": [
    "#length of search results returned\n",
    "len(docs)"
   ]
  },
  {
   "cell_type": "code",
   "execution_count": 6,
   "id": "ff62b2cc-cebc-43ab-a2ff-d785f40ca73c",
   "metadata": {},
   "outputs": [
    {
     "name": "stdout",
     "output_type": "stream",
     "text": [
      "The output is: A delicate, ethereal plant with petals as thin as air, seemingly floating without support. • Petala aerea: Petala leviora aere, in vento fluitant. • Caulis invisus: Caulis vix visibilis, auras sequens et ducens. • Usus: Aetheris extractum levitatem inducit, corporis et mentis. Aetherfloris Ventus Aetherfloris Ventus embodies the essence of the sky, with petals lighter than air itself, appearing to float freely, untethered by the bonds of gravity. This celestial flora is said to have originated from the breath of the winds, nurtured by the whispers of the clouds. It is a plant of such ethereal beauty that many believe it to exist only within the realm of dreams, a fleeting vision of weightlessness and freedom. The stem of Aetherfloris Ventus is nearly invisible, as thin as a wisp of mist, yet surprisingly strong. It dances with the breeze, leading the petals in a delicate ballet that captivates all who witness it. This spectral display has inspired countless myths and legends, tales of plants that could carry messages between distant lovers or guide the souls of the departed to the heavens. Its existence challenges our understanding of the natural world, blurring the lines between the tangible and the intangible. In the realm of alchemy, Aetherfloris Ventus is a treasure beyond measure. Its essence, captured in rare vials, is said to bestow the gift of lightness upon those. \n",
      "\n",
      "The metadata is {'source': '../Data/botanical.pdf', 'page': 2} \n",
      "\n",
      "\n",
      "The output is: 4  who partake. A single drop can lift the spirits, freeing the mind from the burdens of the earthly plane, encouraging thoughts to soar and dreams to take flight. Yet, the true nature of Aetherfloris Ventus eludes even the most dedicated seekers, a reminder of the mysteries that the natural world holds, waiting to be discovered.. \n",
      "\n",
      "The metadata is {'source': '../Data/botanical.pdf', 'page': 3} \n",
      "\n",
      "\n",
      "The output is: An elaborate depiction of hybrid creatures that blend elements of plants and animals, showcasing a unique ecosystem where the boundaries between flora and fauna blur. Creaturae hybridae, plantis animalibusque mixtae, ecosystema unica formant. Flora and Fauna Fusion Hybrid Ecosystem Exploration In the fantastical realm of the Voynich Manuscript's biological section, the line between flora and fauna blurs, creating a unique ecosystem where hybrid creatures thrive. These beings, part plant and part animal, challenge our understanding of natural classification and suggest a world where evolutionary paths have intertwined in unexpected ways. Each illustration captures these hybrids in various stages of growth and activity, providing a window into their life cycles and interactions.  Symbolic and Mythological Implications The fusion of plant and animal features may also carry deeper symbolic or mythological meanings, reflecting ancient beliefs about the unity and connectivity of all life forms. These creatures often possess attributes that are both nurturing and predatory, embodying the dual nature of life itself. This duality prompts viewers to ponder the manuscript's possible philosophical or alchemical messages, hinting at lost knowledge about the harmony of nature.  Scientific and Artistic Merit Artistically, these illustrations showcase the. \n",
      "\n",
      "The metadata is {'source': '../Data/biological.pdf', 'page': 0} \n",
      "\n",
      "\n",
      "The output is: A peculiar plant with spiraling leaves and vibrant blue flowers that seem to emit a faint glow in moonlight. • Holoris spiralis: In lumine lunae, flores azuri magni brillant. • Radices mysticae: Radices intortae terram quaerunt, lumina nocturna sequentes. • Usus: Extractum florae noctem illuminat, mentem serenat.  Luminaflora Spiralis Luminaflora Spiralis thrives under the moon's tender gaze, where its spiraling leaves and vibrant blue petals unfold in a mesmerizing dance of light. Believed by ancient scholars to bridge the earthly realm with the ethereal, these plants radiate a soft luminescence, guiding lost travelers through the darkest nights. Mystics and poets claim that merely being in the presence of Luminaflora can soothe troubled thoughts and illuminate the path to inner peace.   The roots of Luminaflora Spiralis are as intriguing as its blooms. Entwining deeply within the earth, they seek not water, but moonlight that filters through the soil, a phenomenon that baffles even the most learned botanists. The plant's affinity for lunar rays is reflected in its growth cycle, with each phase of the moon bringing about subtle changes in its luminescence and petal orientation. This unique symbiosis with the moon makes Luminaflora a subject of endless fascination.  In medicinal practices, extracts from Luminaflora Spiralis are highly valued for their illuminating properties. Alchemists concoct potions that harness the plant's glow, claiming such elixirs can light up one's inner darkness, dispelling. \n",
      "\n",
      "The metadata is {'source': '../Data/botanical.pdf', 'page': 0} \n",
      "\n",
      "\n"
     ]
    }
   ],
   "source": [
    "print_output(docs)"
   ]
  },
  {
   "cell_type": "code",
   "execution_count": 7,
   "id": "7f32d671-027e-4d18-a86b-d9553d9f29ec",
   "metadata": {},
   "outputs": [],
   "source": [
    "#Search the culinary section\n",
    "docs = db.similarity_search(\"Can you recommend a herbal brew?\")"
   ]
  },
  {
   "cell_type": "code",
   "execution_count": 8,
   "id": "811b8395-5b57-4632-8ef3-53b6e0896c19",
   "metadata": {},
   "outputs": [
    {
     "data": {
      "text/plain": [
       "4"
      ]
     },
     "execution_count": 8,
     "metadata": {},
     "output_type": "execute_result"
    }
   ],
   "source": [
    "#length of search results returned\n",
    "len(docs)"
   ]
  },
  {
   "cell_type": "code",
   "execution_count": 9,
   "id": "53d6153b-9b5f-4224-9433-2b6518466a76",
   "metadata": {},
   "outputs": [
    {
     "name": "stdout",
     "output_type": "stream",
     "text": [
      "The output is: Detailed drawings of herbal brews and potions, each with specific effects, such as enhancing stamina or curing maladies.  Infusiones herbarum ad vires augendas et morbos sanandos. Herbal Brews and Potions Herbal Mastery This page details the preparation of various herbal brews and potions, each carefully crafted to enhance health, vitality, or even spiritual well-being. The illustrations provide a detailed look at the herbs used, their proportions, and the methods of preparation, from simple infusions to complex concoctions requiring precise timing and conditions. Each potion is associated with specific effects, such as boosting energy, calming nerves, or curing diseases.  Alchemy of Flavors The potions blend the alchemy of flavors with practical pharmacology, embodying the ancient belief in the power of plants to affect body and mind. This section might reveal the manuscript's deeper layers, where culinary practice meets mysticism, and each brew is as much a spiritual ritual as a physical remedy. The cryptic annotations could hint at lost knowledge of herbal properties, passed down through generations of healers.  Cultural and Medicinal Insights Beyond their immediate use, these brews offer insights into the cultural attitudes towards healing and magic. The. \n",
      "\n",
      "The metadata is {'source': '../Data/culinary.pdf', 'page': 1} \n",
      "\n",
      "\n",
      "The output is: An array of mysterious herbs, each with unique properties, depicted with precise botanical detail, possibly indicating their medicinal uses. Herbae mysteriosae, curativis proprietatibus plenae, in manuscripto depictae. Herbal Remedies Diverse Medicinal Properties The Herbal Remedies section of the manuscript is a colorful compendium of various herbs, each illustrated with remarkable detail, suggesting their use in treating ailments. These plants are not just botanically accurate; they seem to carry specific annotations about their healing properties, whether it's soothing pain, curing infections, or enhancing vitality. The detailed depictions serve as a bridge between ancient botanical knowledge and the mysterious lore surrounding herbal medicine.  Cultural and Historical Significance The herbs depicted often have a dual role in both culinary and medicinal practices, indicating their importance across various cultures and epochs. These illustrations may provide insights into the dietary and health practices of the time, revealing how herbs were integral to daily life and survival. The manuscript possibly doubles as a practical guide and a pharmacopeial treasure, preserving knowledge that might have otherwise been lost through the ages.  Pharmacological Applications The annotations likely include recipes for concoctions and mixtures, detailing ratios and preparation methods that. \n",
      "\n",
      "The metadata is {'source': '../Data/pharmaceutical.pdf', 'page': 0} \n",
      "\n",
      "\n",
      "The output is: 2 enhance the efficacy of the herbs. These might have been used by healers and early pharmacists, who would need to understand both the properties of individual herbs and the synergistic effects when combined. This knowledge is invaluable for understanding the evolution of pharmaceutical sciences and the historical context of herbal remedies.. \n",
      "\n",
      "The metadata is {'source': '../Data/pharmaceutical.pdf', 'page': 1} \n",
      "\n",
      "\n",
      "The output is: Pharmaceutical Section Herbarum potestates secretas et venena mortifera, scriptis profunde descripta. Elixires vitae, concoctiones mirabiles ad vitam prolongandam et corpus roborandum.. \n",
      "\n",
      "The metadata is {'source': '../Data/pharmaceutical.pdf', 'page': 0} \n",
      "\n",
      "\n"
     ]
    }
   ],
   "source": [
    "print_output(docs)"
   ]
  },
  {
   "cell_type": "code",
   "execution_count": 10,
   "id": "9f1fae51-26ff-4484-a8b0-8d0170c4949c",
   "metadata": {},
   "outputs": [],
   "source": [
    "#Search the astronomical section\n",
    "docs = db.similarity_search(\"What is the orbit of the sun-like figure?\")"
   ]
  },
  {
   "cell_type": "code",
   "execution_count": 11,
   "id": "0c5322dd-b5a4-49e1-8653-bfe023e1c6d4",
   "metadata": {},
   "outputs": [
    {
     "data": {
      "text/plain": [
       "4"
      ]
     },
     "execution_count": 11,
     "metadata": {},
     "output_type": "execute_result"
    }
   ],
   "source": [
    "#length of search results returned\n",
    "len(docs)"
   ]
  },
  {
   "cell_type": "code",
   "execution_count": 12,
   "id": "17c3754b-aa0c-4678-b2b1-c044cab505d2",
   "metadata": {},
   "outputs": [
    {
     "name": "stdout",
     "output_type": "stream",
     "text": [
      "The output is: A complex celestial chart depicting the orbits of various heavenly bodies around a central, sun-like figure, marked with symbols that may represent different astral energies. In medio orbis, solis effigiem auream cernimus, circum quam planetarum choreae gravitant. Hic mundi microcosmus, stellarum potentias et astrorum cursus mysterio plenus, nocturni speculatores ad infinitum ducit. Celestis Orbis Celestial Dynamics At the heart of the Celestis Orbis is a grand celestial diagram, a golden sun encircled by meticulously charted planets and moons. This map not only showcases the orbits but also highlights the harmonious dance of celestial bodies through the cosmos. Observers of this map are granted a visual symphony of planetary alignments and retrogrades, each movement meticulously noted for its impact on both earthly and astral realms.  Symbolic Annotations Surrounding the central depiction are various annotations, symbols that may have been used to record specific celestial events or to note the energy influences exerted by these bodies. These annotations serve as a cryptic guide, potentially useful for ancient astronomers and astrologers who sought understanding of how celestial mechanics directly influenced terrestrial life and spiritual matters.  Interpretive Mysteries The true depth of Celestis Orbis lies in its potential to unlock ancient cosmic knowledge. Scholars and mystics alike may interpret the complex interrelations depicted here as a cosmic clock or a calendar, providing insights into timekeeping and the calculation of seasons, essential for. \n",
      "\n",
      "The metadata is {'source': '../Data/astronomical.pdf', 'page': 0} \n",
      "\n",
      "\n",
      "The output is: Elaborate diagrams depicting interconnected cosmic wheels, possibly representing different celestial spheres or cycles of the universe. Coelestium rotarum conexiones, universi cycli repraesentantes, mysteria cosmica illustrant Cosmic Wheels Intricate Celestial Mechanics The Cosmic Wheels page features a series of elaborate diagrams that represent the interconnected movements of celestial bodies within the universe. These wheels are not just artistic renderings but are thought to symbolize the complex astronomical cycles governing the heavens. Each wheel is meticulously detailed, showing paths that might represent planetary orbits, lunar cycles, or the greater cosmic order that binds them all together.  Philosophical and Mystical Significance Beyond their astronomical significance, these cosmic wheels are deeply rooted in the philosophical beliefs of the time. They likely serve as metaphors for the cycles of life and death, creation and destruction, reflecting a worldview where the cosmos is seen as a living, breathing entity. This symbology invites viewers to ponder the larger existential questions of fate and destiny, influenced by the celestial gears that turn the universe.  Guides for Navigation and Timekeeping Historically, such diagrams could have practical applications in navigation and the calendar systems. \n",
      "\n",
      "The metadata is {'source': '../Data/cosmological.pdf', 'page': 0} \n",
      "\n",
      "\n",
      "The output is: 2 agricultural and ritual purposes. The intertwining of celestial paths offers a puzzle that has challenged viewers for centuries, beckoning modern interpreters to uncover its secrets.. \n",
      "\n",
      "The metadata is {'source': '../Data/astronomical.pdf', 'page': 1} \n",
      "\n",
      "\n",
      "The output is: 4 These expanded descriptions offer a richer narrative and a more comprehensive understanding of the astronomical themes depicted in your project, suitable for an educational and engaging exploration of celestial phenomena.. \n",
      "\n",
      "The metadata is {'source': '../Data/astronomical.pdf', 'page': 3} \n",
      "\n",
      "\n"
     ]
    }
   ],
   "source": [
    "print_output(docs)"
   ]
  },
  {
   "cell_type": "code",
   "execution_count": null,
   "id": "cd318e9a-a2ef-40f7-8581-411a3c9a3240",
   "metadata": {},
   "outputs": [],
   "source": []
  }
 ],
 "metadata": {
  "kernelspec": {
   "display_name": "Python 3 (ipykernel)",
   "language": "python",
   "name": "python3"
  },
  "language_info": {
   "codemirror_mode": {
    "name": "ipython",
    "version": 3
   },
   "file_extension": ".py",
   "mimetype": "text/x-python",
   "name": "python",
   "nbconvert_exporter": "python",
   "pygments_lexer": "ipython3",
   "version": "3.10.14"
  }
 },
 "nbformat": 4,
 "nbformat_minor": 5
}
